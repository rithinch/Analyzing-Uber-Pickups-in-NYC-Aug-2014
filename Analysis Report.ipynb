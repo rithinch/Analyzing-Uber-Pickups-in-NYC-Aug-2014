{
  "metadata": {
    "kernelspec": {
      "display_name": "R",
      "language": "R",
      "name": "ir"
    },
    "language_info": {
      "codemirror_mode": "r",
      "file_extension": ".r",
      "mimetype": "text/x-r-source",
      "name": "R",
      "pygments_lexer": "r",
      "version": "3.3.2"
    }
  },
  "nbformat": 4,
  "nbformat_minor": 0,
  "cells": [
    {
      "cell_type": "markdown",
      "source": "**Aim:**\n\nThe aim of my project is to explore all the UBER pick up locations in New York City during August 2014 and identify the patterns related to pick up timings and pick up locations. \n\n**Objectives:**\n\n1.\tCollect the data about the UBER trips in NYC during August 2014.\n2.\tSet up the data in an data analysing tool (R language in Kaggle)\n3.\tCreating required data set from the data for analysis\n4.\tAnalyse the data \n5.\tVisualization of the data using ggplot2 package for R.\n6.\tDetermine findings and patterns.",
      "outputs": [],
      "metadata": {}
    },
    {
      "cell_type": "code",
      "source": "# Importing the required packages\n\nlibrary(ggplot2) # Data visualization\nlibrary(readr) # CSV file I/O, e.g. the read_csv function\nlibrary(ggthemes) # For providng themed colour scales when plotting graphs.",
      "execution_count": null,
      "outputs": [],
      "metadata": {}
    },
    {
      "cell_type": "markdown",
      "source": "My main objective is to analyse the patterns in pick up timings as well as the pickup locations at different times. I will be needing the Latitude and Longitude columns of the pickups for data visualization (maps) and the Date/Time column for exploring trends in the pickup timings. I will not be using the column ‘Base’ because it is irrelevant to the project aim set.\n\nAs mentioned in previous section, the Date/Time column stores in ‘m/d/Y  H:M:S’ (Note: It is still a string type). I need to split the data in Date/Time column and store the required individual values in new columns. Three most important values I will be focusing on for analysing trends in pickup times are Hours of the day, Days of the month, and Days of the week; For storing these important values I will be adding three new columns.\n\n1.\tHour –stores the hour of the day value from the Date/Time column.\n2.\tDay – stores the day of the month value from the Date/Time column.\n3.\tWeekday – stores the respective weekday from the Date/Time column.\n\nTo implement this in R language, I have used ‘readr’ for reading the raw data in .csv file. Below is the implementation for this section:",
      "outputs": [],
      "metadata": {}
    },
    {
      "cell_type": "code",
      "source": "# Loading the raw data file\n\nuberAug14Data <- read.csv(\"../input/uber-raw-data-aug14.csv\")\n\n# Formatting the Date/Time to ‘m/d/Y  H:M:S’ \n\nuberAug14Data$Date.Time <- strptime(uberAug14Data$Date.Time, format = \"%m/%d/%Y %H:%M:%S\")\n\n# Adding Hour Column\n\nuberAug14Data$Hour <- as.integer(format(uberAug14Data$Date.Time, \"%H\"))\n\n# Adding Day Column \n\nuberAug14Data$Day <- as.integer(format(uberAug14Data$Date.Time, \"%d\"))\n\n# Adding Weekday Column \n\nuberAug14Data$WeekDay <- as.integer(format(uberAug14Data$Date.Time, \"%w\"))",
      "execution_count": null,
      "outputs": [],
      "metadata": {}
    },
    {
      "cell_type": "markdown",
      "source": "\n**Number of Trips by Hour:**\n\nI decided to first look at the number of pickups during the hours of the day in month of August 2014. The reason behind this particular analysis is to identity the times at which people are most likely to order an Uber taxi. This will tell us about the peak times pickup times during the day, it also indicates the times at which the Uber fare rate is likely to be higher than usual.\n\nI have run the following code to produce this histogram:",
      "outputs": [],
      "metadata": {}
    },
    {
      "cell_type": "code",
      "source": "ggplot(data = uberAug14Data, aes(x = uberAug14Data$Hour)) +\n       geom_histogram(binwidth = 1, fill = \"navy\", color = \"blue\") +\n       scale_x_continuous( breaks = seq(0,23,1)) +\n       scale_y_continuous(breaks = seq(0,70000, 5000)) +\n       labs(x = \"Time of the day (00 - 23 hours)\", y = \"No. of Uber Pickups\")",
      "execution_count": null,
      "outputs": [],
      "metadata": {}
    },
    {
      "cell_type": "markdown",
      "source": "![HourPlot][1]\n\n\n----------\n\n\nWe can see from the above histogram that there is huge peak at 18 hours, with over 55000 Uber pickups. The is a steep increase in the number of pickups starting from 14 hours till 18 hours. After wards, the number of pickups start to decrease. Which indicates that the people of NY are likely to use Uber taxis in the evening compared to other times. The least number of pickups were about 10000 at the 2 hours – 5 hours interval, which makes sense because its midnight.\n\n\n----------\n\n\n  [1]: https://www.kaggle.io/svf/521965/aa8170dec83b64ae405a26c63977d523/__results___files/__results___5_1.png",
      "outputs": [],
      "metadata": {}
    },
    {
      "cell_type": "markdown",
      "source": "**Number of Trips by Day:**\n\nNow, I will be looking at the number of pickups made by the each day in the month of August 2014. The reason behind this particular analysis is to identify days when most people use Uber taxis. This will tell us various things such as the days of the month at which there could be more traffic than usual, it also indicates a trend in lifestyle of people in NYC.\n\nI have run the following code to produce this histogram:",
      "outputs": [],
      "metadata": {}
    },
    {
      "cell_type": "code",
      "source": "ggplot(data = uberAug14Data, aes(x = uberAug14Data$Day)) +\n       geom_histogram(binwidth = 1, fill = \"navy\", color = \"blue\") +\n       scale_x_continuous( breaks = seq(0,30,1)) +\n       scale_y_continuous(breaks = seq(0,35000, 5000)) +\n       labs(x = \"Day of the month\", y = \"No. of Uber Pickups\")",
      "execution_count": null,
      "outputs": [],
      "metadata": {}
    },
    {
      "cell_type": "markdown",
      "source": "![DayPlot][1]\n\n\n----------\n\n\nWe can notice a wave like pattern in the histogram. Note that, August 1st is a Friday. We can say that there is huge increase in demand for Uber on every Friday with over 36000 pickups. If you observe, the number of pickups drop on the 2nd to about 28000 and on 3rd to about 23000. These days are Saturdays and Sunday. The demand for Uber taxis slowly picks up again from 4th (Monday) with about 25000 trips and peaks when approaching the weekend. This patterns continues for the rest of the month. The lowest number of pickups are usually seen after the weekend. This indicates that people of NY are likely to order an Uber in weekends than any other day of the week.\n\n\n----------\n\n\n  [1]: https://www.kaggle.io/svf/521965/aa8170dec83b64ae405a26c63977d523/__results___files/__results___8_1.png",
      "outputs": [],
      "metadata": {}
    },
    {
      "cell_type": "markdown",
      "source": "**Number of Trips by Weekday:**\n\nAs we have seen from the previous histogram, the highest number of Uber pickups are predicted to be on a Friday. This particular analysis will tell us if the previous predicted pattern is correct or not. I will be plotting a graph with days of the week (0 till 6, where 0 being Sunday and 6 being Saturday) on x axis and the number of Uber pickups on the y-axis.\n\nI have run the following code to produce this histogram:",
      "outputs": [],
      "metadata": {}
    },
    {
      "cell_type": "code",
      "source": "ggplot(data = uberAug14Data, aes(x = uberAug14Data$WeekDay)) +\n       geom_histogram(binwidth = 1, fill = \"navy\", color = \"blue\") +\n       scale_x_continuous( breaks = seq(0,23,1)) +\n       scale_y_continuous(breaks = seq(0,150000, 25000)) +\n       labs(x = \"Day of the Week (0:Sunday, 6:Saturday)\", y = \"No. of Uber Pickups\")",
      "execution_count": null,
      "outputs": [],
      "metadata": {}
    },
    {
      "cell_type": "markdown",
      "source": "![WeekdayPlot][1]\n\n\n----------\n\n\nThe above histogram clearly shows that day number 5, which is Friday, has about 150000 pickups in the month i.e. the highest. On the other hand, the least number of pickups are on a Monday, 90000. In the previous histogram, we predicted Sunday to be the least, which is not the correct. Monday has the least number of pickups. However, the pattern of increase in demand when approaching the weekend is proved correct. This also tells us a little about the lifestyle of New Yorkers.\n\n\n----------\n\n\n  [1]: https://www.kaggle.io/svf/521965/aa8170dec83b64ae405a26c63977d523/__results___files/__results___11_1.png",
      "outputs": [],
      "metadata": {}
    },
    {
      "cell_type": "markdown",
      "source": "**Visualization of all pickups:**\n\nIn order to support the results I will be plotting 2 maps of New York consisting all the location points of Uber pickups in August 2014. In the First Map the location points will be categorized by the day of the week, whereas in the second map they will be categorized by hours of the day. These visualizations should be able to support the patterns and predictions made when analysing the data. Moreover, it might help us find more patterns as well! I will be using ‘ggthemes’ library for providing themed colour scales when plotting graphs using ‘ggplot2’.\n\nI have run the following code for producing the First Map:",
      "outputs": [],
      "metadata": {}
    },
    {
      "cell_type": "code",
      "source": "min_lat <- 40.5774\nmax_lat <- 40.9176\nmin_long <- -74.15\nmax_long <- -73.7004\n\n\nggplot(uberAug14Data, aes(x=Lon, y=Lat, color = WeekDay)) +\ngeom_point(size = 1) +\nscale_x_continuous(limits = c(min_long, max_long)) +\nscale_y_continuous(limits = c(min_lat, max_lat)) +\ntheme_map() +\nggtitle(\"NEW YORK CITY MAP BASED ON UBER RIDES DURING AUG 2014 BY EACH DAY OF THE WEEK (0:Sunday, 6:Saturday)\") ",
      "execution_count": null,
      "outputs": [],
      "metadata": {}
    },
    {
      "cell_type": "markdown",
      "source": "![Map1][1]\n\n----------\n\n\n![NYC Original Map][2]\n\n\n----------\n\n\nThe plotted map resembles the original map. We can notice that the visualization has more blue points than black ones. This means that over the period of August 2014, majority of the pickups were made during weekdays 4-6 i.e. Thursdays – Saturdays. There is a lot more demand on Thursdays – Saturdays than other days. Hence, the prediction of ‘increasing Uber demand nearer to weekends’ made when analysing the data is proved correct. One interesting observation we can make is that majority of the pickups on a Sunday are in Manhattan. The fact that the map is created based only on the pickup points and it resembles the original map to a good degree, we can say that Uber is being widely used across most of the places in New York City.\n\n\n----------\n\n\nI have run the following code for producing the Second Map:\n\n\n  [1]: https://www.kaggle.io/svf/521965/aa8170dec83b64ae405a26c63977d523/__results___files/__results___14_2.png\n  [2]: http://nycmap360.com/carte/image/en/nyc-borough-map.png",
      "outputs": [],
      "metadata": {}
    },
    {
      "cell_type": "code",
      "source": "ggplot(uberAug14Data, aes(x=Lon, y=Lat, color = Hour)) +\ngeom_point(size = 1) +\nscale_x_continuous(limits = c(min_long, max_long)) +\nscale_y_continuous(limits = c(min_lat, max_lat)) +\ntheme_map() +\nggtitle(\"NEW YORK CITY MAP BASED ON UBER RIDES DURING AUG 2014 BY EACH HOUR (0 to 23)\") ",
      "execution_count": null,
      "outputs": [],
      "metadata": {}
    },
    {
      "cell_type": "markdown",
      "source": "![Map2][1]\n\n\n----------\n\n\nThe second plotted map shows all the Uber pickup locations in august 2014 categorized by hours of the day. We can see that majority of Uber pickups points plotted are between blue and light blue i.e. during 13 – 21 Hours. This also suggests that during these hours we are likely to have higher fare rates than usual. Thus, again, proving the predictions made when analysing the data correct. We can observe that Manhattan area in plotted graph has slightly more blue points than other locations; meaning, many of pickups are made in Manhattan during 15-21 hours. We can also make a note that many of the midnight pickups (black dots) are in Queens, Brooklyn and Bronx. \n\n\n----------\n\n\n  [1]: https://www.kaggle.io/svf/521965/aa8170dec83b64ae405a26c63977d523/__results___files/__results___16_2.png",
      "outputs": [],
      "metadata": {}
    },
    {
      "cell_type": "markdown",
      "source": "In addition to the plotted maps, I have also created an animation of which shows the wide spread of Uber pickup location in NYC over the period of august 2014. \n\nI have run the following code for creating the animation:",
      "outputs": [],
      "metadata": {}
    },
    {
      "cell_type": "code",
      "source": "# Credits : https://www.kaggle.com/tentotheminus9/d/fivethirtyeight/uber-pickups-in-new-york-city/uber-duper-animation/code \n\nlibrary('animation')\n\n# Creating the Animation \n\nuber = read.csv('../input/uber-raw-data-aug14.csv', stringsAsFactors = F)\n\nuber$Date = sapply(strsplit(uber$Date.Time, split = \" \"), function(x) x[[1]][1])\nuber$Date = as.Date(uber$Date, format = \"%m/%d/%Y\")\nuber = uber[order(uber$Date),]\n\nmin_longg = min(uber$Lon)\nmax_longg = max(uber$Lon)\nmin_latt = min(uber$Lat)\nmax_latt = max(uber$Lat)\n\nl = length(uber$Date.Time)\n\ni = 1\n\nsaveGIF(while (i <= l) {\n\n    print(m <- ggplot(data=uber[1:i,],aes(Lon[1:i],Lat[1:i])) + \n              geom_point(size=0.06, color=\"red\", alpha = 0.2) +\n              scale_x_continuous(limits=c(min_longg, max_longg)) +\n              scale_y_continuous(limits=c(min_latt, max_latt)) +\n              theme(panel.background = element_rect(fill = \"black\"),\n              panel.grid.major = element_blank(),\n              panel.grid.minor = element_blank()) +\n              annotate(\"text\", x =-73.0, y=41.2, label = uber$Date[i], colour = 'white', size = 8))\n\n    i = i+20000\n\n}, movie.name = \"uber.gif\", interval = 0.1, convert = \"convert\", ani.width = 800, \nani.height = 600)",
      "execution_count": null,
      "outputs": [],
      "metadata": {}
    },
    {
      "cell_type": "markdown",
      "source": "![A map showing growth of uber pickups in august 2014][1]\n\n\n  [1]: https://www.kaggle.io/svf/519617/0390f632ec6080cc0d6a1e45eae5b633/uber.gif",
      "outputs": [],
      "metadata": {}
    },
    {
      "cell_type": "markdown",
      "source": "----------\n\n\n**Findings and Conclusion**\n\n - Most Uber pickups happen during 16 – 20 Hours (17 hours being the highest). There is a high chance that the fare multiplier is more than usual during these hours. People of NY are likely to use Uber in the evening than other times of the day, which could indicate them getting back from work.\n \n - Highest number of pickups happen on a Friday. Predicted to have more traffic in the city especially during 16 – 20 hours.\n \n - Majority of the pickups on a Sunday tend to happen in Manhattan and most of the pickups that happen in Manhattan are usually between 15 – 21 hours.\n \n - There is an increase in the number of pickups as the week progresses towards weekend, but rapidly decreases after weekend, and it continues.\n \n - 7th August 2014 had the highest number of pickups.\n \n - Uber is widely used across New York.\n\n\nIn conclusion from this Big Data analysis, I was able to identify the peak times and peak locations for Uber pickups in NYC during august 2014. Moreover, I have found different trends in data. For example trends such as the peak hours of Uber pickups could help me decide the right time to travel to a location considering the fare multiplier and traffic.",
      "outputs": [],
      "metadata": {}
    }
  ]
}